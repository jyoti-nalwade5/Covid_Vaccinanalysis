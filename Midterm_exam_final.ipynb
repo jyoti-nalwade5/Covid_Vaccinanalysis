{
 "cells": [
  {
   "cell_type": "code",
   "execution_count": null,
   "metadata": {},
   "outputs": [],
   "source": [
    "import numpy as np\n",
    "import pandas as pd\n",
    "import datetime\n",
    "import matplotlib.pyplot as plt\n",
    "import seaborn as sns"
   ]
  },
  {
   "cell_type": "code",
   "execution_count": null,
   "metadata": {},
   "outputs": [],
   "source": [
    "covid_confirmed_url = \"https://usafactsstatic.blob.core.windows.net/public/data/covid-19/covid_confirmed_usafacts.csv\"\n",
    "covid_deaths_url =\"https://usafactsstatic.blob.core.windows.net/public/data/covid-19/covid_deaths_usafacts.csv\" \n",
    "covid_county_population_url = \"https://usafactsstatic.blob.core.windows.net/public/data/covid-19/covid_county_population_usafacts.csv\"\n",
    "us_state_vaccinations_url=\"https://raw.githubusercontent.com/owid/covid-19-data/master/public/data/vaccinations/us_state_vaccinations.csv\""
   ]
  },
  {
   "cell_type": "code",
   "execution_count": null,
   "metadata": {},
   "outputs": [],
   "source": [
    "confirmed_cases = pd.read_csv(covid_confirmed_url)\n",
    "covid_deaths = pd.read_csv(covid_deaths_url)\n",
    "covid_county_population = pd.read_csv(covid_county_population_url)\n",
    "us_state_vaccinations = pd.read_csv(us_state_vaccinations_url) "
   ]
  },
  {
   "cell_type": "code",
   "execution_count": null,
   "metadata": {},
   "outputs": [],
   "source": [
    "# US State abbriviation and Full names of states to ease the data merging.\n",
    "us_state_abbrev = {\n",
    "    'Alabama': 'AL',\n",
    "    'Alaska': 'AK',\n",
    "    'American Samoa': 'AS',\n",
    "    'Arizona': 'AZ',\n",
    "    'Arkansas': 'AR',\n",
    "    'California': 'CA',\n",
    "    'Colorado': 'CO',\n",
    "    'Connecticut': 'CT',\n",
    "    'Delaware': 'DE',\n",
    "    'District of Columbia': 'DC',\n",
    "    'Florida': 'FL',\n",
    "    'Georgia': 'GA',\n",
    "    'Guam': 'GU',\n",
    "    'Hawaii': 'HI',\n",
    "    'Idaho': 'ID',\n",
    "    'Illinois': 'IL',\n",
    "    'Indiana': 'IN',\n",
    "    'Iowa': 'IA',\n",
    "    'Kansas': 'KS',\n",
    "    'Kentucky': 'KY',\n",
    "    'Louisiana': 'LA',\n",
    "    'Maine': 'ME',\n",
    "    'Maryland': 'MD',\n",
    "    'Massachusetts': 'MA',\n",
    "    'Michigan': 'MI',\n",
    "    'Minnesota': 'MN',\n",
    "    'Mississippi': 'MS',\n",
    "    'Missouri': 'MO',\n",
    "    'Montana': 'MT',\n",
    "    'Nebraska': 'NE',\n",
    "    'Nevada': 'NV',\n",
    "    'New Hampshire': 'NH',\n",
    "    'New Jersey': 'NJ',\n",
    "    'New Mexico': 'NM',\n",
    "    'New York State': 'NY',\n",
    "    'North Carolina': 'NC',\n",
    "    'North Dakota': 'ND',\n",
    "    'Northern Mariana Islands':'MP',\n",
    "    'Ohio': 'OH',\n",
    "    'Oklahoma': 'OK',\n",
    "    'Oregon': 'OR',\n",
    "    'Pennsylvania': 'PA',\n",
    "    'Puerto Rico': 'PR',\n",
    "    'Rhode Island': 'RI',\n",
    "    'South Carolina': 'SC',\n",
    "    'South Dakota': 'SD',\n",
    "    'Tennessee': 'TN',\n",
    "    'Texas': 'TX',\n",
    "    'Utah': 'UT',\n",
    "    'Vermont': 'VT',\n",
    "    'Virgin Islands': 'VI',\n",
    "    'Virginia': 'VA',\n",
    "    'Washington': 'WA',\n",
    "    'West Virginia': 'WV',\n",
    "    'Wisconsin': 'WI',\n",
    "    'Wyoming': 'WY'\n",
    "}\n",
    "\n",
    "abbrev_us_state = dict(map(reversed, us_state_abbrev.items()))"
   ]
  },
  {
   "cell_type": "code",
   "execution_count": null,
   "metadata": {},
   "outputs": [],
   "source": [
    "us_state_vaccinations_data=us_state_vaccinations\n",
    "us_state_vaccinations_data= us_state_vaccinations_data.fillna(method='ffill')\n",
    "us_state_vaccinations_data.head()"
   ]
  },
  {
   "cell_type": "code",
   "execution_count": null,
   "metadata": {},
   "outputs": [],
   "source": [
    "def cleanPopulationData(df_to_clean):\n",
    "    df_clean_filter_cond = df_to_clean[df_to_clean[\"population\"]==0].index\n",
    "    cleaned_df = df_to_clean.drop(df_clean_filter_cond)\n",
    "    return cleaned_df\n",
    "\n",
    "def cleanUsefactsDataFrame(df_raw):\n",
    "    df_filter_cond = df_raw[df_raw[\"countyFIPS\"]==0].index\n",
    "    cleaned_df = df_raw.drop(df_filter_cond).reset_index(drop=True)\n",
    "    cleaned_df = cleaned_df.groupby(['State']).sum()\n",
    "    cleaned_df = cleaned_df.drop(['countyFIPS','StateFIPS'],axis=1)\n",
    "    return cleaned_df\n"
   ]
  },
  {
   "cell_type": "code",
   "execution_count": null,
   "metadata": {},
   "outputs": [],
   "source": [
    "# dataframes contains all population information with fullstates name: covid_county_population_data(County population)\n",
    "county_population =cleanPopulationData(covid_county_population)\n",
    "county_population['State_Names'] = county_population['State'].map(abbrev_us_state)\n",
    "county_population\n",
    "state_population = county_population.groupby(['State_Names']).sum().reset_index()\n",
    "state_population = state_population.drop(['countyFIPS'],axis=1)\n",
    "state_population\n",
    "US_total_Poulation=state_population['population'].sum()\n",
    "US_total_Poulation"
   ]
  },
  {
   "cell_type": "markdown",
   "metadata": {},
   "source": [
    "#### Question 2. \n",
    "<h4>The vaccination data is reported by the entire county, state, US territory, and various groups\n",
    "like the department of defense, long term care and others. Presumably the US data includes the state data and the special group data but not the US territory data. Is the US territory data included in the US totals. Justify your answer. \n",
    "        \n",
    "    *US_data has DC, states and territories included, however groups are not.\n",
    "    *Tried calculating Total_vaccination and total_dstributed column in order to cross verify.\n",
    "    *After calculating multilple combinations of states, groups, DC and territories, have got simmiler results which shows\n",
    "    *US_Data Inclues States+Territories+DC data not groups(only based upon the calculation)."
   ]
  },
  {
   "cell_type": "code",
   "execution_count": null,
   "metadata": {},
   "outputs": [],
   "source": [
    "# lastest updated record for US and all other groups and states to compare updtaed record.\n",
    "US_data= us_state_vaccinations_data.groupby('location').last().reset_index()\n",
    "US_data.head()"
   ]
  },
  {
   "cell_type": "code",
   "execution_count": null,
   "metadata": {},
   "outputs": [],
   "source": [
    "# Lists :state_names_list , terretories_list\n",
    "filter_cond = county_population[county_population['State_Names']==\"District of Columbia\"].index\n",
    "state_names_list=county_population.drop(filter_cond)\n",
    "state_names_list=state_names_list['State_Names'].unique().tolist()\n",
    "\n",
    "terretories_list =['American Samoa','Guam','Northern Mariana Islands','Puerto Rico','Virgin Islands','Marshall Islands','Federated States of Micronesia','Republic of Palau']"
   ]
  },
  {
   "cell_type": "code",
   "execution_count": null,
   "metadata": {},
   "outputs": [],
   "source": [
    "vaccinations_data=US_data\n",
    "# Dataframe With All state vaccination Records.\n",
    "US_states_df= vaccinations_data[vaccinations_data['location'].isin(state_names_list)].reset_index(drop=True)\n",
    "\n",
    "# Dataframe With All teritories vaccination Records.\n",
    "US_territories_df=vaccinations_data[vaccinations_data['location'].isin(terretories_list)].reset_index(drop=True)\n",
    "\n",
    "# Dataframe With All special group vaccination Records.\n",
    "US_special_groups_df=vaccinations_data[~vaccinations_data['location'].isin(state_names_list)].reset_index(drop=True)\n",
    "US_special_groups_df=US_special_groups_df[~US_special_groups_df['location'].isin(terretories_list)].reset_index(drop=True)\n",
    "US_special_groups_df=US_special_groups_df[~US_special_groups_df['location'].isin(['District of Columbia','United States'])].reset_index(drop=True)\n",
    "\n",
    "# Dataframe With United_states Records.\n",
    "US_total_df=vaccinations_data[vaccinations_data['location'].isin(['United States'])].reset_index(drop=True)\n",
    "\n",
    "# Dataframe With DC vaccination Records.\n",
    "DC_df=vaccinations_data[vaccinations_data['location'].isin(['District of Columbia'])].reset_index(drop=True)\n",
    "# US_states_df\n",
    "# US_territories_df\n",
    "# US_special_groups_df\n",
    "# US_total_df\n",
    "# DC_df"
   ]
  },
  {
   "cell_type": "code",
   "execution_count": null,
   "metadata": {},
   "outputs": [],
   "source": [
    "# Combination 1\n",
    "US_total=US_total_df['total_vaccinations'].sum()\n",
    "US_states=US_states_df['total_vaccinations'].sum()\n",
    "US_groups=US_special_groups_df['total_vaccinations'].sum()\n",
    "DC_data=DC_df['total_vaccinations'].sum()\n",
    "US_territory_data= US_territories_df['total_vaccinations'].sum()\n",
    "print(\"US_TOTAL:{}\" .format(US_total))"
   ]
  },
  {
   "cell_type": "code",
   "execution_count": null,
   "metadata": {},
   "outputs": [],
   "source": [
    "all_included = US_states + US_groups + US_territory_data + DC_data\n",
    "all_excluding_territories = US_states + US_groups + DC_data\n",
    "all_excluding_DC = US_states + US_groups + US_territory_data\n",
    "all_excluding_territories_DC = US_states + US_groups\n",
    "all_excluding_groups = US_states + US_territory_data + DC_data\n",
    "all_excluding_groups_DC = US_states + US_territory_data\n",
    "\n",
    "print(\"Data includind all: {}\".format(all_included)) # (more than us_total)\n",
    "print(\"Data excluding territories: {}\".format(all_excluding_territories)) # (more than us_total)\n",
    "print(\"Data excluding DC: {}\" .format(all_excluding_DC)) # (more)\n",
    "print(\"Data excluding territories and DC: {}\" .format(all_excluding_territories_DC))\n",
    "print(\"Data excluding groups: {}\" .format(all_excluding_groups)) # (very close to us_total)\n",
    "print(\"Data excluding groups and DC: {}\" .format(all_excluding_groups_DC)) # (very close)"
   ]
  },
  {
   "cell_type": "code",
   "execution_count": null,
   "metadata": {},
   "outputs": [],
   "source": [
    "# Combination 2\n",
    "US_total=US_total_df['total_distributed'].sum()\n",
    "US_states=US_states_df['total_distributed'].sum()\n",
    "US_groups=US_special_groups_df['total_distributed'].sum()\n",
    "DC_data=DC_df['total_distributed'].sum()\n",
    "US_territory_data= US_territories_df['total_distributed'].sum()\n",
    "US_total"
   ]
  },
  {
   "cell_type": "code",
   "execution_count": null,
   "metadata": {},
   "outputs": [],
   "source": [
    "all_included = US_states + US_groups + US_territory_data + DC_data\n",
    "all_excluding_territories = US_states + US_groups + DC_data\n",
    "all_excluding_DC = US_states + US_groups + US_territory_data\n",
    "all_excluding_territories_DC = US_states + US_groups\n",
    "all_excluding_groups = US_states + US_territory_data + DC_data\n",
    "all_excluding_groups_DC = US_states + US_territory_data\n",
    "print(\"Data includind all: {}\".format(all_included)) # (more than us_total)\n",
    "print(\"Data excluding territories: {}\".format(all_excluding_territories)) # (more than us_total)\n",
    "print(\"Data excluding DC: {}\" .format(all_excluding_DC)) # (more than us_total)\n",
    "print(\"Data excluding territories and DC: {}\" .format(all_excluding_territories_DC))\n",
    "print(\"Data excluding groups: {}\" .format(all_excluding_groups)) # (exactly equal to US_totals)\n",
    "print(\"Data excluding groups and DC: {}\" .format(all_excluding_groups_DC)) # (very close)"
   ]
  },
  {
   "cell_type": "markdown",
   "metadata": {},
   "source": [
    "#### Question 3. \n",
    "<h4>We would like to compute the percent of the population in each state that has been fully\n",
    "vaccinated. Presumably the data reported got the various groups is not included in the individual state data. If we distributed the number of people fully vaccinated in those groups to\n",
    "the states proportionally by population how much would that change the percent of people vaccinated in each state?"
   ]
  },
  {
   "cell_type": "code",
   "execution_count": null,
   "metadata": {},
   "outputs": [],
   "source": [
    "def vaccinationPercent():\n",
    "    vaccine_percentage_df = US_data.filter(['location','date','people_fully_vaccinated'], axis=1)\n",
    "    vaccine_percentage_df = vaccine_percentage_df.merge(state_population, left_on='location', right_on='State_Names').reindex(columns=['location', 'date', 'people_fully_vaccinated', 'population'])\n",
    "    vaccine_percentage_df ['people_vaccinated%']=(vaccine_percentage_df['people_fully_vaccinated']/vaccine_percentage_df['population'])*100\n",
    "    vaccine_percentage_df.drop(vaccine_percentage_df[vaccine_percentage_df['location'] ==\"District of Columbia\"].index, inplace=True)\n",
    "    return vaccine_percentage_df.reset_index(drop=True)"
   ]
  },
  {
   "cell_type": "code",
   "execution_count": null,
   "metadata": {},
   "outputs": [],
   "source": [
    "#Fully vaccinated total record of all special groups.\n",
    "groups_fully_vaccinated=US_special_groups_df.filter(['location','date','people_fully_vaccinated'], axis=1)\n",
    "groups_fully_vaccinated_data_total=groups_fully_vaccinated['people_fully_vaccinated'].sum() \n",
    "groups_fully_vaccinated_data_total"
   ]
  },
  {
   "cell_type": "code",
   "execution_count": null,
   "metadata": {},
   "outputs": [],
   "source": [
    "#Distributing the Groups data Praportionaly to states and calculating Percentage of revised fully vaccinated data.\n",
    "increased_percentage=vaccinationPercent()\n",
    "increased_percentage['proportion']=increased_percentage['population']/US_total_Poulation\n",
    "increased_percentage['distributed_numbers']=increased_percentage['proportion']*groups_fully_vaccinated_data_total\n",
    "increased_percentage['fully_vaccinated_revised']=increased_percentage['people_fully_vaccinated']+increased_percentage['distributed_numbers']\n",
    "increased_percentage['people_vaccinated%_revised']=(increased_percentage['fully_vaccinated_revised']/increased_percentage['population'])*100\n",
    "increased_percentage['increased%']=increased_percentage['people_vaccinated%_revised']-increased_percentage['people_vaccinated%']\n",
    "increased_percentage"
   ]
  },
  {
   "cell_type": "markdown",
   "metadata": {},
   "source": [
    "#### Question 4\n",
    "<h4>Produce a chart or table showing the percent of people in each state that have been fully\n",
    "vaccinated. Sort the data by the percent of people vaccinated. You notebook should download the dataset so when it is run we get the most recent data."
   ]
  },
  {
   "cell_type": "code",
   "execution_count": null,
   "metadata": {},
   "outputs": [],
   "source": [
    "sorted_vaccination_per_state=vaccinationPercent()\n",
    "sorted_vaccination_per_state=sorted_vaccination_per_state.sort_values(by=['people_vaccinated%']).reset_index(drop=True)\n",
    "sorted_vaccination_per_state"
   ]
  },
  {
   "cell_type": "markdown",
   "metadata": {},
   "source": [
    "#### Question 5\n",
    "<h4>We want to see the progression from the start of the pandemic to now the percent of people that have some immunity in the US. Produce a plot of weekly data that contains three\n",
    "lines. One showing the the percent of the living people have have or had covid. One showing the the percent of people that have had at least one covid vaccine shot. The third line\n",
    "showing the sum of the two to estimate the number of people that have some immunity.\n",
    "Over time sum will be an over estimate as people who had covid get a vaccine shot. As in\n",
    "#4 the notebook should download the data to up-to-date results"
   ]
  },
  {
   "cell_type": "code",
   "execution_count": null,
   "metadata": {},
   "outputs": [],
   "source": [
    "confirmed_cases_data=confirmed_cases\n",
    "new_covid_cases= cleanUsefactsDataFrame(confirmed_cases_data)\n",
    "new_covid_cases.head()"
   ]
  },
  {
   "cell_type": "code",
   "execution_count": null,
   "metadata": {},
   "outputs": [],
   "source": [
    "covid_deaths_data=covid_deaths\n",
    "new_covid_deaths=cleanUsefactsDataFrame(covid_deaths_data)\n",
    "new_covid_deaths.head()"
   ]
  },
  {
   "cell_type": "code",
   "execution_count": null,
   "metadata": {},
   "outputs": [],
   "source": [
    "# People who have had covid and alive\n",
    "def immunityCountCal():\n",
    "    people_have_had_covid=new_covid_cases.subtract(new_covid_deaths)\n",
    "    people_have_had_covid.reset_index(inplace=True)\n",
    "    people_have_had_covid = people_have_had_covid.melt(id_vars=['State'],value_name='Had Covid',var_name='date')\n",
    "    return people_have_had_covid"
   ]
  },
  {
   "cell_type": "code",
   "execution_count": null,
   "metadata": {},
   "outputs": [],
   "source": [
    "people_have_had_covid_alive = immunityCountCal()\n",
    "people_have_had_covid_alive = people_have_had_covid_alive.groupby(['date']).sum().reset_index()\n",
    "people_have_had_covid_alive.head()"
   ]
  },
  {
   "cell_type": "code",
   "execution_count": null,
   "metadata": {},
   "outputs": [],
   "source": [
    "people_with_one_vaccine_dose = us_state_vaccinations_data.filter(['date','location','people_vaccinated'],axis=1)\n",
    "people_with_one_vaccine_dose = people_with_one_vaccine_dose[people_with_one_vaccine_dose['location'].isin(state_names_list)].reset_index(drop=True)\n",
    "people_with_one_vaccine_dose = people_with_one_vaccine_dose.groupby('date').sum().reset_index()\n",
    "people_with_one_vaccine_dose.head()"
   ]
  },
  {
   "cell_type": "code",
   "execution_count": null,
   "metadata": {},
   "outputs": [],
   "source": [
    "# To get the data of people who had covid and alive and number of people got at least one dose for each date. \n",
    "people_immunity_info = people_have_had_covid_alive.merge(people_with_one_vaccine_dose, how='left', on=['date']).fillna(0).reset_index(drop=True)\n",
    "people_immunity_info['date'] = pd.to_datetime(people_immunity_info['date'])\n",
    "people_immunity_info\n",
    "# To get the data of people who had covid and alive and number of people got at least one dose per week. \n",
    "people_immunity_info = people_immunity_info.resample('W-mon', label='right', closed = 'right', on='date').apply(lambda x : x.iloc[-1])\n",
    "people_immunity_info = people_immunity_info.reset_index(drop=True)\n",
    "people_immunity_info"
   ]
  },
  {
   "cell_type": "code",
   "execution_count": null,
   "metadata": {},
   "outputs": [],
   "source": [
    "# Percentage of people have some immunity in US per week\n",
    "people_immunity_percent_info=pd.DataFrame()\n",
    "people_immunity_percent_info['WeekDate']=people_immunity_info['date']\n",
    "people_immunity_percent_info['% Had covid'] = (people_immunity_info['Had Covid']/US_total_Poulation)*100\n",
    "people_immunity_percent_info['% Vaccinated'] =(people_immunity_info['people_vaccinated']/US_total_Poulation)*100\n",
    "people_immunity_percent_info['% Immune'] = ((people_immunity_info['Had Covid']+people_immunity_info['people_vaccinated'])/US_total_Poulation)*100\n",
    "people_immunity_percent_info['WeekDate']=people_immunity_percent_info['WeekDate'].map(lambda tf : tf.strftime(\"%d-%m-%Y\"))\n",
    "people_immunity_percent_info = people_immunity_percent_info.set_index('WeekDate')\n",
    "people_immunity_percent_info"
   ]
  },
  {
   "cell_type": "code",
   "execution_count": null,
   "metadata": {},
   "outputs": [],
   "source": [
    "plt.figure(figsize=(20,6))\n",
    "plt.xticks(rotation=80)\n",
    "plt.xlabel('Weeks') \n",
    "plt.ylabel('Percentage')\n",
    "plt.title('Percentage of US people have immunity(Per Week)')\n",
    "sns.lineplot(data=people_immunity_percent_info, palette=\"flare\")"
   ]
  },
  {
   "cell_type": "markdown",
   "metadata": {},
   "source": [
    "#### Question 6\n",
    "<h4>Produce the same plot as in #5 for the states. You should have a function that takes the two\n",
    "letter abbreviation for the state and produces the plot for the state. "
   ]
  },
  {
   "cell_type": "code",
   "execution_count": null,
   "metadata": {},
   "outputs": [],
   "source": [
    "# Number of People got at least one vaccination dose per state per day. \n",
    "people_had_covid_alive_state = immunityCountCal()\n",
    "people_had_covid_alive_state['location'] = people_had_covid_alive_state['State'].map(abbrev_us_state)\n",
    "people_with_one_vaccine_dose_state=us_state_vaccinations_data.filter(['date','location','people_vaccinated'],axis=1)\n",
    "people_with_one_vaccine_dose_state=people_with_one_vaccine_dose_state[people_with_one_vaccine_dose_state['location'].isin(state_names_list)].reset_index(drop=True)\n",
    "people_with_one_vaccine_dose_state"
   ]
  },
  {
   "cell_type": "code",
   "execution_count": null,
   "metadata": {},
   "outputs": [],
   "source": [
    "# Number of People had covid and alive and people who got at least one vaccination dose per state per week. \n",
    "state_people_immunity_info=pd.merge(people_had_covid_alive_state,people_with_one_vaccine_dose_state, on=['date','location'],how='left').fillna(0)\n",
    "state_people_immunity_info['date']= pd.to_datetime(state_people_immunity_info['date'])\n",
    "state_people_immunity_info=state_people_immunity_info.groupby('State').resample('W-mon', label='right', closed = 'right', on='date').apply(lambda x : x.iloc[-1])\n",
    "state_people_immunity_info=state_people_immunity_info.drop(['State','date'],axis=1)\n",
    "state_people_immunity_info=state_people_immunity_info.reset_index()\n",
    "state_people_immunity_info=state_people_immunity_info.merge(state_population,left_on='location',right_on='State_Names',how='left').reindex(columns=['State', 'date', 'Had Covid', 'location','people_vaccinated','population'])\n",
    "state_people_immunity_info"
   ]
  },
  {
   "cell_type": "code",
   "execution_count": null,
   "metadata": {},
   "outputs": [],
   "source": [
    "# Percentage of people have some immunity in each state per week\n",
    "state_immune_percent=pd.DataFrame()\n",
    "state_immune_percent=state_people_immunity_info.filter(['State','date'])                                                                             \n",
    "state_immune_percent['% Had Covid'] = (state_people_immunity_info['Had Covid']/state_people_immunity_info['population'])*100\n",
    "state_immune_percent['% Vaccinated'] =(state_people_immunity_info['people_vaccinated']/state_people_immunity_info['population'])*100\n",
    "state_immune_percent['% Immune'] = ((state_people_immunity_info['Had Covid']+state_people_immunity_info['people_vaccinated'])/state_people_immunity_info['population'])*100\n",
    "state_immune_percent['date']=state_immune_percent['date'].map(lambda tf : tf.strftime(\"%d-%m-%Y\"))\n",
    "state_immune_percent"
   ]
  },
  {
   "cell_type": "code",
   "execution_count": null,
   "metadata": {},
   "outputs": [],
   "source": [
    "def statePlot(state_abbr):\n",
    "    state_immune_percent_plot=state_immune_percent.copy()\n",
    "    state_immune_percent_plot=state_immune_percent_plot[state_immune_percent_plot['State'].isin(state_abbr)]\n",
    "    state_immune_percent_plot=state_immune_percent_plot.reset_index(drop=True)\n",
    "    state_immune_percent_plot=state_immune_percent_plot.set_index('date')\n",
    "    plt.figure(figsize=(20,6))\n",
    "    plt.xticks(rotation=80)\n",
    "    plt.xlabel('Weeks') \n",
    "    plt.ylabel('Percentage') \n",
    "    plt.title('Percentage of people have immunity for State(Per Week)')\n",
    "    sns.lineplot(data=state_immune_percent_plot, palette=\"flare\")\n",
    "        \n",
    "abbr=['AK']\n",
    "statePlot(abbr)"
   ]
  },
  {
   "cell_type": "markdown",
   "metadata": {},
   "source": [
    "#### Question 1\n",
    "<h4>In us_state_vaccinations.csv there are some gaps in the data. Will those gaps affect the\n",
    "results of the following questions. If no why not. If yes explain the affect.\n",
    "    \n",
    "        * Gaps will affect the question solved above.\n",
    "        * As it is real time data the rows gets updated daily, I need latest data to compute question 2 and 3.\n",
    "        * If the row updated have gap or nan which will affect my comuptaion result.\n",
    "        * For question 4, 5 if there will be gaps then plot will not display the immune people % for half of the data\n",
    "        * To avoid all this usiing forwardfill method and filling the gaps."
   ]
  }
 ],
 "metadata": {
  "kernelspec": {
   "display_name": "Python 3",
   "language": "python",
   "name": "python3"
  },
  "language_info": {
   "codemirror_mode": {
    "name": "ipython",
    "version": 3
   },
   "file_extension": ".py",
   "mimetype": "text/x-python",
   "name": "python",
   "nbconvert_exporter": "python",
   "pygments_lexer": "ipython3",
   "version": "3.8.5"
  }
 },
 "nbformat": 4,
 "nbformat_minor": 4
}
